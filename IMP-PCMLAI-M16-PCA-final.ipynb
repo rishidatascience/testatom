{
  "cells": [
    {
      "cell_type": "code",
      "execution_count": null,
      "metadata": {
        "id": "T9-QxwQcsYc0"
      },
      "outputs": [],
      "source": [
        "import numpy as np\n",
        "from PIL import Image\n",
        "from sklearn.decomposition import PCA, KernelPCA\n",
        "import sklearn\n",
        "import matplotlib.pyplot as plt"
      ]
    },
    {
      "cell_type": "markdown",
      "metadata": {},
      "source": [
        "# Introduction\n",
        "\n",
        "In this notebook we are going to learn about denoisifying images using PCA. We begin with a simple example of noisy linear observations. We then introduce the fashion MNIST data-set, where we will take some images and artificially add noise. You must then submit a set of exercises related to denoisifying the images using PCA and Kernel PCA.\n",
        "\n",
        "To try and understand how PCA can help us denoisify, consider the following plot:"
      ]
    },
    {
      "cell_type": "code",
      "execution_count": null,
      "metadata": {},
      "outputs": [],
      "source": [
        "# original data\n",
        "x = np.linspace(0, 1, 101)\n",
        "y = 2 * x\n",
        "\n",
        "# add noise to data\n",
        "y_noisy = y + np.random.normal(0, 0.2, size = x.shape)\n",
        "\n",
        "fig, ax = plt.subplots(nrows = 1, ncols = 1)\n",
        "fig.set_figheight(5)\n",
        "fig.set_figwidth(10)\n",
        "\n",
        "ax.scatter(x, y, color = 'r', label = 'original data')\n",
        "ax.scatter(x, y_noisy, label = 'noisy data')\n",
        "ax.set_xlabel('x')\n",
        "ax.set_ylabel('y')\n",
        "ax.legend()"
      ]
    },
    {
      "cell_type": "markdown",
      "metadata": {},
      "source": [
        "The plot above shows simple linear data, corrupted by a small amount of Gaussian noise. Can you see why a 1-dimensional representation of the data can help in getting rid of the noise? If we project every noisy data point to the line $y = 2x$, we recover out original data exactly! This is the idea behind PCA denoisifying. This is a simple example, so we are going to explore a more interesting one:"
      ]
    },
    {
      "cell_type": "markdown",
      "metadata": {},
      "source": [
        "# Denoisify Fashion-MNIST\n",
        "\n",
        "We will now try to denoisify data from the fashion MNIST data-set. This is an analogous data set to the MNIST hand written digits set, however it is made up of pictures of different types of clothing. It consists of 10 different labels: t-shirt (0), trouser (1), pullover (2), dress (3), coat (4), sandal (5), shirt (6), sneaker (7), bag (8), ankle boot (9). The code below downloads 5022 images from the data-set and splits into a training and testing data-set. We will then visualize the test set. "
      ]
    },
    {
      "cell_type": "code",
      "execution_count": null,
      "metadata": {},
      "outputs": [],
      "source": [
        "X = np.genfromtxt('fashion-mnist_train.csv', delimiter=',')\n",
        "\n",
        "Y = X[1:, 0]\n",
        "X_train = X[21:, 1:]\n",
        "X_test = X[1:21, 1:]"
      ]
    },
    {
      "cell_type": "code",
      "execution_count": null,
      "metadata": {},
      "outputs": [],
      "source": [
        "def plot_images(X, title):\n",
        "    # we use this function to plot the training images\n",
        "    fig, axs = plt.subplots(nrows=5, ncols=4, figsize=(8, 8))\n",
        "    for img, ax in zip(X, axs.ravel()):\n",
        "        ax.imshow(img.reshape((28, 28)), cmap=\"Greys\")\n",
        "        ax.axis(\"off\")\n",
        "    fig.suptitle(title, fontsize=12)\n",
        "\n",
        "plot_images(X_test, 'Fashion-MNIST')"
      ]
    },
    {
      "cell_type": "markdown",
      "metadata": {},
      "source": [
        "We will artificially add noise to the images and display them:"
      ]
    },
    {
      "cell_type": "code",
      "execution_count": null,
      "metadata": {},
      "outputs": [],
      "source": [
        "X_noisy = X_test + np.random.normal(loc = 0, scale = 40, size = X_test.shape)\n",
        "\n",
        "plot_images(X_noisy, 'Noisy Images')"
      ]
    },
    {
      "cell_type": "markdown",
      "metadata": {},
      "source": [
        "To denoisify, we will use the training set to *learn* a low-dimensional space that represents our data, which can be used to remove noise from *similar* images. We can see an example here: https://scikit-learn.org/stable/auto_examples/applications/plot_digits_denoising.html where we use a data-set of uncorrupted digits to remove the noise from corrupted digits.\n",
        "\n",
        "Note that we treat each image as a flat vector with 784 features. Ideally we want to take bigger advantages of known structure in the images, for example, when flattening the image, we lose a lot of spatial structure (a pixel is closely related to all those around it)!. As an example, the following paper: https://www.researchgate.net/publication/267228169_PCA_based_image_denoising adds filters to the processes to achieve much better results. \n",
        "\n",
        "Other examples of exploiting image structure will be introduced in Module 21 (Convolutional Neural Networks)."
      ]
    },
    {
      "cell_type": "markdown",
      "metadata": {},
      "source": [
        "# Exercises"
      ]
    },
    {
      "cell_type": "markdown",
      "metadata": {},
      "source": [
        "The following code will train a PCA model on the training set. It then uses the learned principal components to project the noisy data into a lower dimensional representation, and reconstructs them. We hope this will denoisify the image. However, as you see, it will no be very good. The noise will be gone but the images will not resemble the original. Try increasing the number of principal components to fix this! Play around with it until you get a good denoisification. Answer the following questions:\n",
        "\n",
        "1. What is the behavior of the reconstructed images as you include more components?\n",
        "\n",
        "2. What is the best number of components for denoisifying this particular test set?"
      ]
    },
    {
      "cell_type": "code",
      "execution_count": null,
      "metadata": {},
      "outputs": [],
      "source": [
        "# fit a PCA model\n",
        "number_of_principal_components = 10\n",
        "pca = PCA(n_components = number_of_principal_components)\n",
        "pca.fit(X_train)\n",
        "\n",
        "# transform the noisy data into a lower dimensional representation and then back to a high dimensional one\n",
        "X_reconstructed_pca = pca.inverse_transform(pca.transform(X_noisy))\n",
        "\n",
        "# plot the denoisified images\n",
        "plot_images(X_reconstructed_pca, 'Reconstructed using PCA')"
      ]
    },
    {
      "cell_type": "markdown",
      "metadata": {},
      "source": [
        "3. Repeat the exercise above but using Kernel PCA instead. Are you able to achieve better results?"
      ]
    },
    {
      "cell_type": "code",
      "execution_count": null,
      "metadata": {},
      "outputs": [],
      "source": [
        "# code here"
      ]
    },
    {
      "cell_type": "markdown",
      "metadata": {},
      "source": [
        "4. Finally, we note that the shoes are not always reconstructed well. Assuming you had labelled images, can you think of a way of improving the denoisification process?"
      ]
    }
  ],
  "metadata": {
    "colab": {
      "collapsed_sections": [],
      "name": "PCANotebook.ipynb",
      "provenance": []
    },
    "interpreter": {
      "hash": "d37abda7630e259e5026a5079657683a09f6e3d11473720762ebe7250c494840"
    },
    "kernelspec": {
      "display_name": "Python 3.8.12 64-bit ('emeritus': conda)",
      "name": "python3"
    },
    "language_info": {
      "codemirror_mode": {
        "name": "ipython",
        "version": 3
      },
      "file_extension": ".py",
      "mimetype": "text/x-python",
      "name": "python",
      "nbconvert_exporter": "python",
      "pygments_lexer": "ipython3",
      "version": "3.8.12"
    }
  },
  "nbformat": 4,
  "nbformat_minor": 0
}
