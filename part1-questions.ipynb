{
 "cells": [
  {
   "cell_type": "code",
   "execution_count": 2,
   "id": "408df7f3",
   "metadata": {},
   "outputs": [
    {
     "name": "stdout",
     "output_type": "stream",
     "text": [
      "Collecting aima3\n",
      "  Downloading aima3-1.0.11-py2.py3-none-any.whl (150 kB)\n",
      "\u001b[K     |████████████████████████████████| 150 kB 4.5 MB/s eta 0:00:01    |██████▌                         | 30 kB 10.2 MB/s eta 0:00:01\n",
      "\u001b[?25hRequirement already satisfied: jupyter in /Users/dollymac/opt/anaconda3/lib/python3.8/site-packages (from aima3) (1.0.0)\n",
      "Requirement already satisfied: tqdm in /Users/dollymac/opt/anaconda3/lib/python3.8/site-packages (from aima3) (4.59.0)\n",
      "Collecting networkx==1.11\n",
      "  Downloading networkx-1.11-py2.py3-none-any.whl (1.3 MB)\n",
      "\u001b[K     |████████████████████████████████| 1.3 MB 14.6 MB/s eta 0:00:01\n",
      "\u001b[?25hRequirement already satisfied: decorator>=3.4.0 in /Users/dollymac/opt/anaconda3/lib/python3.8/site-packages (from networkx==1.11->aima3) (5.0.6)\n",
      "Requirement already satisfied: nbconvert in /Users/dollymac/opt/anaconda3/lib/python3.8/site-packages (from jupyter->aima3) (6.0.7)\n",
      "Requirement already satisfied: qtconsole in /Users/dollymac/opt/anaconda3/lib/python3.8/site-packages (from jupyter->aima3) (5.0.3)\n",
      "Requirement already satisfied: jupyter-console in /Users/dollymac/opt/anaconda3/lib/python3.8/site-packages (from jupyter->aima3) (6.4.0)\n",
      "Requirement already satisfied: ipykernel in /Users/dollymac/opt/anaconda3/lib/python3.8/site-packages (from jupyter->aima3) (5.3.4)\n",
      "Requirement already satisfied: ipywidgets in /Users/dollymac/opt/anaconda3/lib/python3.8/site-packages (from jupyter->aima3) (7.6.3)\n",
      "Requirement already satisfied: notebook in /Users/dollymac/opt/anaconda3/lib/python3.8/site-packages (from jupyter->aima3) (6.3.0)\n",
      "Requirement already satisfied: ipython>=5.0.0 in /Users/dollymac/opt/anaconda3/lib/python3.8/site-packages (from ipykernel->jupyter->aima3) (7.22.0)\n",
      "Requirement already satisfied: appnope in /Users/dollymac/opt/anaconda3/lib/python3.8/site-packages (from ipykernel->jupyter->aima3) (0.1.2)\n",
      "Requirement already satisfied: tornado>=4.2 in /Users/dollymac/opt/anaconda3/lib/python3.8/site-packages (from ipykernel->jupyter->aima3) (6.1)\n",
      "Requirement already satisfied: jupyter-client in /Users/dollymac/opt/anaconda3/lib/python3.8/site-packages (from ipykernel->jupyter->aima3) (6.1.12)\n",
      "Requirement already satisfied: traitlets>=4.1.0 in /Users/dollymac/opt/anaconda3/lib/python3.8/site-packages (from ipykernel->jupyter->aima3) (5.0.5)\n",
      "Requirement already satisfied: pexpect>4.3 in /Users/dollymac/opt/anaconda3/lib/python3.8/site-packages (from ipython>=5.0.0->ipykernel->jupyter->aima3) (4.8.0)\n",
      "Requirement already satisfied: backcall in /Users/dollymac/opt/anaconda3/lib/python3.8/site-packages (from ipython>=5.0.0->ipykernel->jupyter->aima3) (0.2.0)\n",
      "Requirement already satisfied: prompt-toolkit!=3.0.0,!=3.0.1,<3.1.0,>=2.0.0 in /Users/dollymac/opt/anaconda3/lib/python3.8/site-packages (from ipython>=5.0.0->ipykernel->jupyter->aima3) (3.0.17)\n",
      "Requirement already satisfied: pygments in /Users/dollymac/opt/anaconda3/lib/python3.8/site-packages (from ipython>=5.0.0->ipykernel->jupyter->aima3) (2.8.1)\n",
      "Requirement already satisfied: setuptools>=18.5 in /Users/dollymac/opt/anaconda3/lib/python3.8/site-packages (from ipython>=5.0.0->ipykernel->jupyter->aima3) (52.0.0.post20210125)\n",
      "Requirement already satisfied: pickleshare in /Users/dollymac/opt/anaconda3/lib/python3.8/site-packages (from ipython>=5.0.0->ipykernel->jupyter->aima3) (0.7.5)\n",
      "Requirement already satisfied: jedi>=0.16 in /Users/dollymac/opt/anaconda3/lib/python3.8/site-packages (from ipython>=5.0.0->ipykernel->jupyter->aima3) (0.17.2)\n",
      "Requirement already satisfied: parso<0.8.0,>=0.7.0 in /Users/dollymac/opt/anaconda3/lib/python3.8/site-packages (from jedi>=0.16->ipython>=5.0.0->ipykernel->jupyter->aima3) (0.7.0)\n",
      "Requirement already satisfied: ptyprocess>=0.5 in /Users/dollymac/opt/anaconda3/lib/python3.8/site-packages (from pexpect>4.3->ipython>=5.0.0->ipykernel->jupyter->aima3) (0.7.0)\n",
      "Requirement already satisfied: wcwidth in /Users/dollymac/opt/anaconda3/lib/python3.8/site-packages (from prompt-toolkit!=3.0.0,!=3.0.1,<3.1.0,>=2.0.0->ipython>=5.0.0->ipykernel->jupyter->aima3) (0.2.5)\n",
      "Requirement already satisfied: ipython-genutils in /Users/dollymac/opt/anaconda3/lib/python3.8/site-packages (from traitlets>=4.1.0->ipykernel->jupyter->aima3) (0.2.0)\n",
      "Requirement already satisfied: widgetsnbextension~=3.5.0 in /Users/dollymac/opt/anaconda3/lib/python3.8/site-packages (from ipywidgets->jupyter->aima3) (3.5.1)\n",
      "Requirement already satisfied: nbformat>=4.2.0 in /Users/dollymac/opt/anaconda3/lib/python3.8/site-packages (from ipywidgets->jupyter->aima3) (5.1.3)\n",
      "Requirement already satisfied: jupyterlab-widgets>=1.0.0 in /Users/dollymac/opt/anaconda3/lib/python3.8/site-packages (from ipywidgets->jupyter->aima3) (1.0.0)\n",
      "Requirement already satisfied: jupyter-core in /Users/dollymac/opt/anaconda3/lib/python3.8/site-packages (from nbformat>=4.2.0->ipywidgets->jupyter->aima3) (4.7.1)\n",
      "Requirement already satisfied: jsonschema!=2.5.0,>=2.4 in /Users/dollymac/opt/anaconda3/lib/python3.8/site-packages (from nbformat>=4.2.0->ipywidgets->jupyter->aima3) (3.2.0)\n",
      "Requirement already satisfied: attrs>=17.4.0 in /Users/dollymac/opt/anaconda3/lib/python3.8/site-packages (from jsonschema!=2.5.0,>=2.4->nbformat>=4.2.0->ipywidgets->jupyter->aima3) (20.3.0)\n",
      "Requirement already satisfied: pyrsistent>=0.14.0 in /Users/dollymac/opt/anaconda3/lib/python3.8/site-packages (from jsonschema!=2.5.0,>=2.4->nbformat>=4.2.0->ipywidgets->jupyter->aima3) (0.17.3)\n",
      "Requirement already satisfied: six>=1.11.0 in /Users/dollymac/opt/anaconda3/lib/python3.8/site-packages (from jsonschema!=2.5.0,>=2.4->nbformat>=4.2.0->ipywidgets->jupyter->aima3) (1.15.0)\n",
      "Requirement already satisfied: argon2-cffi in /Users/dollymac/opt/anaconda3/lib/python3.8/site-packages (from notebook->jupyter->aima3) (20.1.0)\n",
      "Requirement already satisfied: prometheus-client in /Users/dollymac/opt/anaconda3/lib/python3.8/site-packages (from notebook->jupyter->aima3) (0.10.1)\n",
      "Requirement already satisfied: jinja2 in /Users/dollymac/opt/anaconda3/lib/python3.8/site-packages (from notebook->jupyter->aima3) (2.11.3)\n",
      "Requirement already satisfied: Send2Trash>=1.5.0 in /Users/dollymac/opt/anaconda3/lib/python3.8/site-packages (from notebook->jupyter->aima3) (1.5.0)\n",
      "Requirement already satisfied: pyzmq>=17 in /Users/dollymac/opt/anaconda3/lib/python3.8/site-packages (from notebook->jupyter->aima3) (20.0.0)\n",
      "Requirement already satisfied: terminado>=0.8.3 in /Users/dollymac/opt/anaconda3/lib/python3.8/site-packages (from notebook->jupyter->aima3) (0.9.4)\n",
      "Requirement already satisfied: python-dateutil>=2.1 in /Users/dollymac/opt/anaconda3/lib/python3.8/site-packages (from jupyter-client->ipykernel->jupyter->aima3) (2.8.1)\n",
      "Requirement already satisfied: cffi>=1.0.0 in /Users/dollymac/opt/anaconda3/lib/python3.8/site-packages (from argon2-cffi->notebook->jupyter->aima3) (1.14.5)\n",
      "Requirement already satisfied: pycparser in /Users/dollymac/opt/anaconda3/lib/python3.8/site-packages (from cffi>=1.0.0->argon2-cffi->notebook->jupyter->aima3) (2.20)\n",
      "Requirement already satisfied: MarkupSafe>=0.23 in /Users/dollymac/opt/anaconda3/lib/python3.8/site-packages (from jinja2->notebook->jupyter->aima3) (1.1.1)\n",
      "Requirement already satisfied: jupyterlab-pygments in /Users/dollymac/opt/anaconda3/lib/python3.8/site-packages (from nbconvert->jupyter->aima3) (0.1.2)\n",
      "Requirement already satisfied: mistune<2,>=0.8.1 in /Users/dollymac/opt/anaconda3/lib/python3.8/site-packages (from nbconvert->jupyter->aima3) (0.8.4)\n",
      "Requirement already satisfied: testpath in /Users/dollymac/opt/anaconda3/lib/python3.8/site-packages (from nbconvert->jupyter->aima3) (0.4.4)\n",
      "Requirement already satisfied: entrypoints>=0.2.2 in /Users/dollymac/opt/anaconda3/lib/python3.8/site-packages (from nbconvert->jupyter->aima3) (0.3)\n",
      "Requirement already satisfied: defusedxml in /Users/dollymac/opt/anaconda3/lib/python3.8/site-packages (from nbconvert->jupyter->aima3) (0.7.1)\n",
      "Requirement already satisfied: pandocfilters>=1.4.1 in /Users/dollymac/opt/anaconda3/lib/python3.8/site-packages (from nbconvert->jupyter->aima3) (1.4.3)\n",
      "Requirement already satisfied: nbclient<0.6.0,>=0.5.0 in /Users/dollymac/opt/anaconda3/lib/python3.8/site-packages (from nbconvert->jupyter->aima3) (0.5.3)\n",
      "Requirement already satisfied: bleach in /Users/dollymac/opt/anaconda3/lib/python3.8/site-packages (from nbconvert->jupyter->aima3) (3.3.0)\n",
      "Requirement already satisfied: nest-asyncio in /Users/dollymac/opt/anaconda3/lib/python3.8/site-packages (from nbclient<0.6.0,>=0.5.0->nbconvert->jupyter->aima3) (1.5.1)\n",
      "Requirement already satisfied: async-generator in /Users/dollymac/opt/anaconda3/lib/python3.8/site-packages (from nbclient<0.6.0,>=0.5.0->nbconvert->jupyter->aima3) (1.10)\n",
      "Requirement already satisfied: webencodings in /Users/dollymac/opt/anaconda3/lib/python3.8/site-packages (from bleach->nbconvert->jupyter->aima3) (0.5.1)\n",
      "Requirement already satisfied: packaging in /Users/dollymac/opt/anaconda3/lib/python3.8/site-packages (from bleach->nbconvert->jupyter->aima3) (20.9)\n",
      "Requirement already satisfied: pyparsing>=2.0.2 in /Users/dollymac/opt/anaconda3/lib/python3.8/site-packages (from packaging->bleach->nbconvert->jupyter->aima3) (2.4.7)\n",
      "Requirement already satisfied: qtpy in /Users/dollymac/opt/anaconda3/lib/python3.8/site-packages (from qtconsole->jupyter->aima3) (1.9.0)\n",
      "Installing collected packages: networkx, aima3\n",
      "  Attempting uninstall: networkx\n",
      "    Found existing installation: networkx 2.5\n",
      "    Uninstalling networkx-2.5:\n",
      "      Successfully uninstalled networkx-2.5\n",
      "\u001b[31mERROR: pip's dependency resolver does not currently take into account all the packages that are installed. This behaviour is the source of the following dependency conflicts.\n",
      "scikit-image 0.18.1 requires networkx>=2.0, but you have networkx 1.11 which is incompatible.\u001b[0m\n",
      "Successfully installed aima3-1.0.11 networkx-1.11\n",
      "Note: you may need to restart the kernel to use updated packages.\n"
     ]
    }
   ],
   "source": [
    "pip install aima3"
   ]
  },
  {
   "cell_type": "code",
   "execution_count": 3,
   "id": "66ea8cb2",
   "metadata": {},
   "outputs": [],
   "source": [
    "import sys \n",
    "from aima3 import learning\n",
    "%matplotlib inline\n",
    "import matplotlib.pyplot as plt\n",
    "import numpy as np"
   ]
  },
  {
   "cell_type": "markdown",
   "id": "8096d0c3",
   "metadata": {},
   "source": [
    "### 1. Activation Functions\n",
    "Before we see how neural networks work, we first concentrate on activation functions. We will give some examples."
   ]
  },
  {
   "cell_type": "markdown",
   "id": "b4124bf1",
   "metadata": {},
   "source": [
    "#### Sigmoid Function\n",
    "The sigmoid function takes the \"S\" shape. There are several functions that give a sigmoid function, but typically in neural networks, when we refer to *the* sigmoid function we mean the logistic function, which is:\n",
    "$$s(z) := \\dfrac{1}{1 + e^{-z}}.$$\n",
    "Let us plot this function for several values of $z$ and see why we have the S-shape."
   ]
  },
  {
   "cell_type": "code",
   "execution_count": 4,
   "id": "72e34ab9",
   "metadata": {},
   "outputs": [],
   "source": [
    "#Define the sigmoid function\n",
    "def sigmoid(z):\n",
    "    \"\"\"The sigmoid function.\"\"\"\n",
    "    return 1.0/(1.0 + np.exp(-z))\n",
    "#generic plot function\n",
    "def plot_function(f, x):\n",
    "    plt.plot(x, f(x))\n",
    "    try:\n",
    "        title = f.__name__\n",
    "        plt.title('%s' % title)\n",
    "        plt.savefig('%s.png' % title)\n",
    "    except AttributeError as e:\n",
    "        print(e)\n",
    "    plt.savefig('out.png')"
   ]
  },
  {
   "cell_type": "code",
   "execution_count": 5,
   "id": "e5446a23",
   "metadata": {},
   "outputs": [
    {
     "data": {
      "image/png": "[encoded data removed]",
      "text/plain": [
       "<Figure size 432x288 with 1 Axes>"
      ]
     },
     "metadata": {
      "needs_background": "light"
     },
     "output_type": "display_data"
    }
   ],
   "source": [
    "jump = .1\n",
    "x = np.arange(-5., 5 + jump, jump) #Generate x = -5, -5 + 0.1, -5 + 2 * 0.1, ..., 5 (jump = 0.1 gives 0.1 jumps!)\n",
    "\n",
    "plot_function(sigmoid, x)"
   ]
  },
  {
   "cell_type": "markdown",
   "id": "9ea7550a",
   "metadata": {},
   "source": [
    "In addition to the S-shape, we always obtain values that are within $[0,1]$. This is because the logistic function always takes values between $0$ and $1$. To see this, observe that as $z \\rightarrow \\infty$ we have $e^{-z}= 0$ hence $s(z) = 1$ and as $z \\rightarrow 0$ we have $e^{-z} = \\infty$ hence $s(z) = 0$. \n",
    "\n",
    "Thanks to this property, we typically use the sigmoid function to come up with \"probabilities\" for an instance to belong to either of two classes in a standard classification setting, though there are many extensions possible."
   ]
  },
  {
   "cell_type": "markdown",
   "id": "2c15060a",
   "metadata": {},
   "source": [
    "Neural networks use activation functions. We will soon see how to use many of them in an integrated manner to make sophisticated decisions. However, to illustrate the simplest case, we now present a neural network for two-dimensional predictors. \n",
    "\n",
    "Assume for simplicity that in a classification problem every instance has $x_1,\\ x_2$ values, and our goal is to find the target $y$. We use logistic regression, which returns the probability of an instance having a target, say $+1$ as:\n",
    "$$ \\mathbb{P}[y = 1 | x_1, x_2] = \\dfrac{1}{ 1 + \\exp( - w_0 - w_1 x_1 -  w_2 x_2)} = s(w_0 + w_1x_2 + w_2x_2).$$\n",
    "\n",
    "In logistic regression we optimize the parameters $w_0, w_1, w_2$ to make the most meaningful classifications.\n",
    "\n",
    "This procedure can be summarized by a very simple neural network:\n",
    "<img src=\"logistic.png\" alt=\"Drawing\" style=\"width: 400px;\"/>\n",
    "\n",
    "We interpret this network as the following: The input of the network is an instance with variables $x_1$ and $x_2$. There is also an input which is always $+1$ (called the *bias*). The weight of the input $x_1$ is $w_1$, the weight of the input $x_2$ is $w_2$, and the weight of the input $+1$ is $w_0$. The input gets transformed by $w_0 + w_1 x_1 + w_2 x_2$ and enters the activation node. The activation node applies the function $s$ and returns the answer of $s(w_0 + w_1 x_1 + w_2 x_2)$. Our goal is to optimize the weights ($w_0,\\ w_1,\\ w_2$) of this system so that the final decision is the most meaningful. Note that, the \"most meaningul\" phrase is vague right now, and soon we will formalize this (the weigths are chosen to minimize a loss over a training set)."
   ]
  },
  {
   "cell_type": "markdown",
   "id": "62975fa2",
   "metadata": {},
   "source": [
    "We can shift and scale the sigmoid function as the following:"
   ]
  },
  {
   "cell_type": "code",
   "execution_count": 4,
   "id": "707b5fa0",
   "metadata": {},
   "outputs": [
    {
     "data": {
      "image/png": "[encoded data removed]",
      "text/plain": [
       "<Figure size 432x288 with 1 Axes>"
      ]
     },
     "metadata": {
      "needs_background": "light"
     },
     "output_type": "display_data"
    }
   ],
   "source": [
    "def modified_sigmoid(z):\n",
    "    \"\"\"The modified sigmoid function.\"\"\"\n",
    "    z = 10*z + 10\n",
    "    return sigmoid(z)\n",
    "plot_function(modified_sigmoid, x)"
   ]
  },
  {
   "cell_type": "markdown",
   "id": "4820e6ba",
   "metadata": {},
   "source": [
    "However, in neural networks we will not need to worry about which scaling or shifting to take, as the weights will be optimized in a way that the corresponding 'shape' of the sigmoid function will make the best predictions. In general, for any $w_1, w_2, w_0$ in the above example, if we, for example, take new weights as $2w_1, 2w_2, 2w_0$, then we scaled the input of sigmoid function by $2$. Similarly, if we update $w_0$ as $w_0 + 2$, we shift the input of sigmoid by $2$. Hence, we keep sigmoid function's description as simple as possible, whose input is a scalar $z$. However, in a neural network, the definition of $z$ depends on the weights coming in this activation node and the output of the previous 'layer'. "
   ]
  },
  {
   "cell_type": "markdown",
   "id": "24415cee",
   "metadata": {},
   "source": [
    "#### ReLU (Rectified Linear Unit)\n",
    "The ReLU function simply keeps the positive part of its argument:\n",
    "$$r(x) = \\max \\{0, x\\}. $$\n",
    "Sometimes this function is referred as $\\mathrm{ReLU(x)}$."
   ]
  },
  {
   "cell_type": "code",
   "execution_count": 5,
   "id": "fb0b4132",
   "metadata": {},
   "outputs": [
    {
     "data": {
      "image/png": "[encoded data removed]",
      "text/plain": [
       "<Figure size 432x288 with 1 Axes>"
      ]
     },
     "metadata": {
      "needs_background": "light"
     },
     "output_type": "display_data"
    }
   ],
   "source": [
    "def relu(z):\n",
    "    \"\"\"The relu function.\"\"\"\n",
    "    return np.maximum(0,z)\n",
    "plot_function(relu, x)"
   ]
  },
  {
   "cell_type": "markdown",
   "id": "dcb66379",
   "metadata": {},
   "source": [
    "#### Leaky ReLU\n",
    "The Leaky ReLU function is simply changing the definition of ReLU slightly for negative inputs:\n",
    "\n",
    "$$ rl(x) = \\begin{cases}\n",
    "x & \\text{ if } x> 0 \\\\\n",
    "0.01x & \\text{ otherwise.}\n",
    "\\end{cases}$$"
   ]
  },
  {
   "cell_type": "code",
   "execution_count": 6,
   "id": "2a3a4376",
   "metadata": {},
   "outputs": [
    {
     "data": {
      "image/png": "[encoded data removed]",
      "text/plain": [
       "<Figure size 432x288 with 1 Axes>"
      ]
     },
     "metadata": {
      "needs_background": "light"
     },
     "output_type": "display_data"
    }
   ],
   "source": [
    "def leaky_relu(z): #using 0.1 instead of 0.01 just to make the plot easier to read\n",
    "    \"\"\"The leaky relu function.\"\"\"\n",
    "    return 0.1*z + 0.9*np.maximum(0,z)\n",
    "plot_function(leaky_relu, x)"
   ]
  },
  {
   "cell_type": "markdown",
   "id": "b2bdc6ac",
   "metadata": {},
   "source": [
    "#### Softplus\n",
    "Smooth approximation of the ReLU function:\n",
    "$$ sp(x) =  \\log(1 + e^{x})$$"
   ]
  },
  {
   "cell_type": "code",
   "execution_count": 7,
   "id": "9dee19ea",
   "metadata": {},
   "outputs": [
    {
     "data": {
      "image/png": "[encoded data removed]",
      "text/plain": [
       "<Figure size 432x288 with 1 Axes>"
      ]
     },
     "metadata": {
      "needs_background": "light"
     },
     "output_type": "display_data"
    }
   ],
   "source": [
    "def sofplus(z):\n",
    "    \"\"\"The sofplus function.\"\"\"\n",
    "    return np.log(1 + np.exp(z))\n",
    "plot_function(sofplus, x)"
   ]
  },
  {
   "cell_type": "markdown",
   "id": "a13b2654",
   "metadata": {},
   "source": [
    "**Exercise:** \n",
    "The Exponential linear unit (ELU) activation, for some $\\alpha > 0$ is:\n",
    "$$el(X) = \\begin{cases} \\alpha \\cdot( e^x - 1) & \\text{ if } x \\leq 0 \\\\  x  & \\text{ if } x > 0 \\end{cases}.$$\n",
    "Visualize this activation function for $\\alpha = 1$."
   ]
  },
  {
   "cell_type": "markdown",
   "id": "1f5c3248",
   "metadata": {},
   "source": [
    "There are many more activation functions. However, for now, we move on to how to design a simple neural network."
   ]
  },
  {
   "cell_type": "markdown",
   "id": "d1617ccc",
   "metadata": {},
   "source": [
    "### 2. Building simple neural networks\n",
    "Let us use the ReLU function above to make some simple predictions."
   ]
  },
  {
   "cell_type": "markdown",
   "id": "66e5f0fa",
   "metadata": {},
   "source": [
    "Assume that a training point consists of $p$ predictors $\\{x_i\\}_{i = 1,\\ldots, p}$ and a target $y$. Our goal is to 'learn' a function that maps the predictors to the target as accurately as possible **with a fixed network architecture** (as otherwise we can design an arbitrarily deep neural network which can learn everything but it will overfit the training set). Assume this is a regression problem.\n",
    "\n",
    "For simplicity of notation, let us denote the ReLU activation function as $[y]_+ = \\max\\{0, y\\}$. If $y$ is a vector, then our understanding for $[y]_+$ is that the ReLU function will be applied to each component of $y$.\n",
    "\n",
    "Now, for a matrix $W \\in \\mathbb{R}^{q \\times p}$, a vector $b \\in \\mathbb{R}^q$, and a matrix with a single row $H \\in \\mathbb{R}^{1 \\times q}$, let our estimation for $y$ be:\n",
    "$$\\hat{y} = H [W x + b]_+.$$\n",
    "Here, the rule can be verbally explain as the following: Take the input $x$ and (pre-) multiply it with a matrix $W$ and add a vector $b$ (so we applied an affine transformation on $x$). Take the positive part of the resulting vector. Then, (pre-) multiply this result by $H$ to obtain the final answer. Although this rule might initially look vague, it is shown to be a very strong rule in most settings. See [this SIAM news article](https://sinews.siam.org/Details-Page/the-functions-of-deep-learning) for more details.\n",
    "\n",
    "In neural networks, our goal is to optimize the 'weights' (or parameters) $W, b, H$ to come up with the best estimation $\\hat{y}$ of $y$. The visual description of the above architecture can be summarized as:\n",
    "<img src=\"simple_nn.png\" alt=\"Drawing\" style=\"width: 400px;\"/>"
   ]
  },
  {
   "cell_type": "markdown",
   "id": "05df55ba",
   "metadata": {},
   "source": [
    "In this network, we see that there are $p$ inputs (which are corresponding to the elements of some $x \\in \\mathbb{R}^p$). Moreover, there is an additional input of a fixed constant, $+1$, which is the *bias* term (to see why bias term is useful, see [this discussion](https://stats.stackexchange.com/a/153945/206540])). There is a single hidden layer with $q$ neurons, each denotes as $r_j$ for $j = 1,\\ldots,q$. The input of the $j$-th neuron in the hidden layer is: $z_j := w_{j1}x_1 + w_{j2}x_2 + \\ldots, w_{jp}x_p + b_j$. Moreover, the output of this neuron is the ReLU activation of its input $r_j = [z_j]_{+}$. Finally, the output layer uses the weights $H = [h_1 \\ \\cdots \\ h_q]$ to come up with the estimation $\\hat{y} = h_1 r_1 + \\ldots + h_q r_q$.\n",
    "\n",
    "Finally, note that:\n",
    "- The fact that there are $q$ neurons in the hidden layer is a modeling decision. This is the fixed architecture. In neural networks, we optimize the weights after fixing an architecture. So, in our optimization problem, we will not consider what value of $q$ to take. Same applies to the selection of the activation function as well as the fact that there is only one hidden layer.\n",
    "- We discussed that the above network is a visual representation of the estimation $H [W x + b]_+$. This compact representation is obtained by matrix multiplications. To use this representation, we must note that $H$ is a matrix whose $(1,j)$-th value is $h_j$, $W$ is a matrix whose $(j,i)$-th value is $w_{ji}$, and $b$ is a vector whose $j$-th element is $b_j$."
   ]
  },
  {
   "cell_type": "markdown",
   "id": "bbe2a746",
   "metadata": {},
   "source": [
    "Above, we saw a very simple neural network. We have not discussed how to optimize its weights, neither did we explore options to generalize this network. We will be able to add as many hidden layers as possible to the network, with different activation functions and neuron numbers (depths). Similarly, we will be able to add the bias term to each layer. Moroever, we will also be able to have multi-class classification/regression by having multiple neurons in the output layer rather than just one.\n",
    "\n",
    "To this end, we now discuss some of the useful properties that we will use in the following. We will see shortly that deep neural networks ('deep' corresponds to increasing the number of layers) can be used to approximate any function, and that it generalizes some of our old friends, including the linear and logistic regressions. "
   ]
  },
  {
   "cell_type": "markdown",
   "id": "caa913d0",
   "metadata": {},
   "source": [
    "There are 5 important steps in creating a function $F(x, w)$ that corresponds to the decision of a neural network, where $w$ are weights and $x$ the data:\n",
    "1. Key operation: **Composition** $F = F_3(F_2(F_1(x, w))))$ (*e.g.*, recall how we multiplied $x$ with a matrix, added a vector, multiplied with another, etc., we composed many functions!).\n",
    "2. Key algorithm: **Stochastic Gradient Descent** to find the best weights $w$.\n",
    "3. Key rule: **Chain rule** to compute derivatives that are used in stochastic gradient descent (the 'chain' comes from the composition).\n",
    "4. Key subroutine: **Backpropagation** to execute the chain rule efficiently.\n",
    "5. Key nonlinearity: **Rectifier** $\\text{ReLU}(y) = r(y) = [y]_+$ ramp function, that we introduced before (will be simply referred as rectifier).\n",
    "\n",
    "Above, the first element (composition) will be used to add more complexity to the network. In the above example we used a single hidden layer and the composition we took was a linear (multiplying with $H$) - sigmoid (applying $[\\cdot]_+$) - affine (applying $Wx + b$ to the input). "
   ]
  },
  {
   "cell_type": "markdown",
   "id": "6fe29db9",
   "metadata": {},
   "source": [
    "***\n",
    "\n",
    "**Exercise:**\n",
    "Write the explicit functional expression describing the following network architecture displayed in the diagram below (from [1]). You can assume that the activation function from layer 2 to layer 3 is of ReLU type. Moreover, assume that there is a bias term connecting to each layer. Count the number of weights in this architecture. \n",
    "\n",
    "<img src=\"demond_fig3.png\" alt=\"Drawing\" style=\"width: 300px;\"/>\n",
    "\n",
    "\n",
    "\n",
    "*** \n",
    "\n",
    "#### Reading: \n",
    "1. Deep Learning: An Introduction for Applied Mathematicians, Desmond Higham, Arxiv:1801.05894 \n",
    "2. Approximation by superpositions of a sigmoidal function, Mathematics of Control, Signals, and Systems 7 (1989) 303-314"
   ]
  },
  {
   "cell_type": "markdown",
   "id": "c62148d4",
   "metadata": {},
   "source": [
    "### 3. Using PyTorch for Neural Networks"
   ]
  },
  {
   "cell_type": "markdown",
   "id": "a7308e7a",
   "metadata": {},
   "source": [
    "To compute with Neural Networks, we will be using Python library `torch`: \n",
    "```python\n",
    "from __future__ import print_function\n",
    "import torch\n",
    "x = torch.rand(5, 3) #example usage\n",
    "```\n",
    "In the course of this section and the next two sections we will explain the library's API in more detail."
   ]
  },
  {
   "cell_type": "code",
   "execution_count": 7,
   "id": "0926508b",
   "metadata": {},
   "outputs": [
    {
     "ename": "ModuleNotFoundError",
     "evalue": "No module named 'torch'",
     "output_type": "error",
     "traceback": [
      "\u001b[0;31m---------------------------------------------------------------------------\u001b[0m",
      "\u001b[0;31mModuleNotFoundError\u001b[0m                       Traceback (most recent call last)",
      "\u001b[0;32m<ipython-input-7-c92f3ea41741>\u001b[0m in \u001b[0;36m<module>\u001b[0;34m\u001b[0m\n\u001b[1;32m      1\u001b[0m \u001b[0;32mfrom\u001b[0m \u001b[0m__future__\u001b[0m \u001b[0;32mimport\u001b[0m \u001b[0mprint_function\u001b[0m\u001b[0;34m\u001b[0m\u001b[0;34m\u001b[0m\u001b[0m\n\u001b[0;32m----> 2\u001b[0;31m \u001b[0;32mimport\u001b[0m \u001b[0mtorch\u001b[0m\u001b[0;34m\u001b[0m\u001b[0;34m\u001b[0m\u001b[0m\n\u001b[0m",
      "\u001b[0;31mModuleNotFoundError\u001b[0m: No module named 'torch'"
     ]
    }
   ],
   "source": [
    "from __future__ import print_function\n",
    "import torch"
   ]
  },
  {
   "cell_type": "markdown",
   "id": "71f03ba0",
   "metadata": {},
   "source": [
    "Using `PyTorch` we're going to rewrite the example above "
   ]
  },
  {
   "cell_type": "code",
   "execution_count": 8,
   "id": "6b046ca9",
   "metadata": {},
   "outputs": [
    {
     "ename": "ModuleNotFoundError",
     "evalue": "No module named 'torch'",
     "output_type": "error",
     "traceback": [
      "\u001b[0;31m---------------------------------------------------------------------------\u001b[0m",
      "\u001b[0;31mModuleNotFoundError\u001b[0m                       Traceback (most recent call last)",
      "\u001b[0;32m<ipython-input-8-a429e7210c0a>\u001b[0m in \u001b[0;36m<module>\u001b[0;34m\u001b[0m\n\u001b[0;32m----> 1\u001b[0;31m \u001b[0;32mimport\u001b[0m \u001b[0mtorch\u001b[0m\u001b[0;34m.\u001b[0m\u001b[0mnn\u001b[0m \u001b[0;32mas\u001b[0m \u001b[0mnn\u001b[0m\u001b[0;34m\u001b[0m\u001b[0;34m\u001b[0m\u001b[0m\n\u001b[0m\u001b[1;32m      2\u001b[0m \u001b[0;32mimport\u001b[0m \u001b[0mtorch\u001b[0m\u001b[0;34m.\u001b[0m\u001b[0mnn\u001b[0m\u001b[0;34m.\u001b[0m\u001b[0mfunctional\u001b[0m \u001b[0;32mas\u001b[0m \u001b[0mfunc\u001b[0m\u001b[0;34m\u001b[0m\u001b[0;34m\u001b[0m\u001b[0m\n\u001b[1;32m      3\u001b[0m \u001b[0;34m\u001b[0m\u001b[0m\n\u001b[1;32m      4\u001b[0m \u001b[0;31m# in PyTorch we have to start defining the linear functions of each layer\u001b[0m\u001b[0;34m\u001b[0m\u001b[0;34m\u001b[0m\u001b[0;34m\u001b[0m\u001b[0m\n\u001b[1;32m      5\u001b[0m \u001b[0mF_1\u001b[0m \u001b[0;34m=\u001b[0m \u001b[0mnn\u001b[0m\u001b[0;34m.\u001b[0m\u001b[0mLinear\u001b[0m\u001b[0;34m(\u001b[0m\u001b[0min_features\u001b[0m\u001b[0;34m=\u001b[0m\u001b[0;36m2\u001b[0m\u001b[0;34m,\u001b[0m \u001b[0mout_features\u001b[0m\u001b[0;34m=\u001b[0m\u001b[0;36m2\u001b[0m\u001b[0;34m,\u001b[0m \u001b[0mbias\u001b[0m\u001b[0;34m=\u001b[0m\u001b[0;32mTrue\u001b[0m\u001b[0;34m)\u001b[0m \u001b[0;31m#bias = True adds the bias term for input - layer 1 weights\u001b[0m\u001b[0;34m\u001b[0m\u001b[0;34m\u001b[0m\u001b[0m\n",
      "\u001b[0;31mModuleNotFoundError\u001b[0m: No module named 'torch'"
     ]
    }
   ],
   "source": [
    "import torch.nn as nn \n",
    "import torch.nn.functional as func \n",
    "\n",
    "# in PyTorch we have to start defining the linear functions of each layer\n",
    "F_1 = nn.Linear(in_features=2, out_features=2, bias=True) #bias = True adds the bias term for input - layer 1 weights\n",
    "print('A_2:', F_1.weight, '\\n', 'b_2:', F_1.bias) #weights are assigned randomly"
   ]
  },
  {
   "cell_type": "markdown",
   "id": "6b729fcd",
   "metadata": {},
   "source": [
    "From `F_2` above we can define a function in Python using either the `lambda` or the `def` keywords: \n",
    "\n",
    "```python \n",
    "def F_2(x):\n",
    "    return F_2.forward(x) # or just F_2(x)\n",
    "```"
   ]
  },
  {
   "cell_type": "code",
   "execution_count": 11,
   "id": "becf51d0",
   "metadata": {},
   "outputs": [
    {
     "data": {
      "text/plain": [
       "tensor([0.0000, 1.1859, 0.0000], grad_fn=<ReluBackward0>)"
      ]
     },
     "execution_count": 11,
     "metadata": {},
     "output_type": "execute_result"
    }
   ],
   "source": [
    "x = torch.from_numpy(np.array([1., 2.], dtype=np.float64)).float() #use numpy commands -- example input to Layer 2\n",
    "L_2 = nn.Linear(in_features=2, out_features=3, bias=True) #define the second step -> 2 - to 3 + the bias term \n",
    "F_2 = lambda x: func.relu(L_2.forward(x)) # F_2 applies the ReLU activation on the L_2 evaluation.\n",
    "F_2(x)"
   ]
  },
  {
   "cell_type": "markdown",
   "id": "5526e081",
   "metadata": {},
   "source": [
    "We can apply the above steps by simple algebra, so what `torch` applies is not a mystery:"
   ]
  },
  {
   "cell_type": "code",
   "execution_count": 12,
   "id": "0cc6db8e",
   "metadata": {},
   "outputs": [
    {
     "data": {
      "text/plain": [
       "array([[0.       ],\n",
       "       [1.1858686],\n",
       "       [0.       ]], dtype=float32)"
      ]
     },
     "execution_count": 12,
     "metadata": {},
     "output_type": "execute_result"
    }
   ],
   "source": [
    "weights = L_2.weight.detach().numpy() #the weights L2 uses are taken\n",
    "x_vect = x.detach().numpy().reshape(2,1) #we take the input as a numpy array\n",
    "input_of_L_2 = weights.dot(x_vect) + L_2.bias.detach().numpy().reshape(3,1) #now apply the affine transformation\n",
    "output_of_L2 = relu(input_of_L_2) #composition with the relu function (activate the input)\n",
    "output_of_L2 #this is what F_2 returns"
   ]
  },
  {
   "cell_type": "markdown",
   "id": "ebb408fb",
   "metadata": {},
   "source": [
    "Finally we apply the last layer:"
   ]
  },
  {
   "cell_type": "code",
   "execution_count": 13,
   "id": "159ef22c",
   "metadata": {},
   "outputs": [],
   "source": [
    "L_3 = nn.Linear(in_features=3, out_features=2, bias=True)\n",
    "F_3 = lambda x: L_3.forward(x) #this is just evaluation, here we do not apply ReLU (or this is \"identity activation\")"
   ]
  },
  {
   "cell_type": "markdown",
   "id": "282f6e83",
   "metadata": {},
   "source": [
    "We defined all layers. Now, to make prediction, we can simply compose the layers:"
   ]
  },
  {
   "cell_type": "code",
   "execution_count": 14,
   "id": "cb7fa4cd",
   "metadata": {},
   "outputs": [],
   "source": [
    "F = lambda x: F_3(F_2(F_1(x)))"
   ]
  },
  {
   "cell_type": "markdown",
   "id": "f585573b",
   "metadata": {},
   "source": [
    "And finally giving an input to `F` will return an output:"
   ]
  },
  {
   "cell_type": "code",
   "execution_count": 15,
   "id": "5eaf6afd",
   "metadata": {},
   "outputs": [
    {
     "data": {
      "text/plain": [
       "tensor([-0.0856, -0.4549], grad_fn=<AddBackward0>)"
      ]
     },
     "execution_count": 15,
     "metadata": {},
     "output_type": "execute_result"
    }
   ],
   "source": [
    "x = torch.from_numpy(np.array([1., 2.], dtype=np.float64)).float()\n",
    "y = F(x)\n",
    "y"
   ]
  },
  {
   "cell_type": "code",
   "execution_count": 16,
   "id": "b9092de4",
   "metadata": {},
   "outputs": [
    {
     "data": {
      "text/plain": [
       "tensor([-0.0856, -0.4549], grad_fn=<AddBackward0>)"
      ]
     },
     "execution_count": 16,
     "metadata": {},
     "output_type": "execute_result"
    }
   ],
   "source": [
    "x = torch.from_numpy(np.array([-2, 5], dtype=np.float64)).float()\n",
    "y = F(x)\n",
    "y"
   ]
  },
  {
   "cell_type": "markdown",
   "id": "1986d423",
   "metadata": {},
   "source": [
    "Note that `F` is just a function with fixed weights. The reason is since `torch` automatically assigns initial weights. In the next notebook we will see how to optimize the weigths for a purpose."
   ]
  },
  {
   "cell_type": "markdown",
   "id": "add16242",
   "metadata": {},
   "source": [
    "#### 4. Visualizing a Network Architecture"
   ]
  },
  {
   "cell_type": "code",
   "execution_count": 17,
   "id": "0e6c10a2",
   "metadata": {},
   "outputs": [
    {
     "data": {
      "image/svg+xml": [
       "<?xml version=\"1.0\" encoding=\"UTF-8\" standalone=\"no\"?>\n",
       "<!DOCTYPE svg PUBLIC \"-//W3C//DTD SVG 1.1//EN\"\n",
       " \"http://www.w3.org/Graphics/SVG/1.1/DTD/svg11.dtd\">\n",
       "<!-- Generated by graphviz version 2.47.3 (20210619.1520)\n",
       " -->\n",
       "<!-- Pages: 1 -->\n",
       "<svg width=\"460pt\" height=\"479pt\"\n",
       " viewBox=\"0.00 0.00 460.00 479.00\" xmlns=\"http://www.w3.org/2000/svg\" xmlns:xlink=\"http://www.w3.org/1999/xlink\">\n",
       "<g id=\"graph0\" class=\"graph\" transform=\"scale(1 1) rotate(0) translate(4 475)\">\n",
       "<polygon fill=\"white\" stroke=\"transparent\" points=\"-4,4 -4,-475 456,-475 456,4 -4,4\"/>\n",
       "<!-- 140460623002896 -->\n",
       "<g id=\"node1\" class=\"node\">\n",
       "<title>140460623002896</title>\n",
       "<polygon fill=\"#caff70\" stroke=\"black\" points=\"278,-31 219,-31 219,0 278,0 278,-31\"/>\n",
       "<text text-anchor=\"middle\" x=\"248.5\" y=\"-7\" font-family=\"monospace\" font-size=\"10.00\"> (1, 2)</text>\n",
       "</g>\n",
       "<!-- 140460623050064 -->\n",
       "<g id=\"node2\" class=\"node\">\n",
       "<title>140460623050064</title>\n",
       "<polygon fill=\"lightgrey\" stroke=\"black\" points=\"299,-86 198,-86 198,-67 299,-67 299,-86\"/>\n",
       "<text text-anchor=\"middle\" x=\"248.5\" y=\"-74\" font-family=\"monospace\" font-size=\"10.00\">AddmmBackward0</text>\n",
       "</g>\n",
       "<!-- 140460623050064&#45;&gt;140460623002896 -->\n",
       "<g id=\"edge19\" class=\"edge\">\n",
       "<title>140460623050064&#45;&gt;140460623002896</title>\n",
       "<path fill=\"none\" stroke=\"black\" d=\"M248.5,-66.79C248.5,-60.07 248.5,-50.4 248.5,-41.34\"/>\n",
       "<polygon fill=\"black\" stroke=\"black\" points=\"252,-41.19 248.5,-31.19 245,-41.19 252,-41.19\"/>\n",
       "</g>\n",
       "<!-- 140460623051792 -->\n",
       "<g id=\"node3\" class=\"node\">\n",
       "<title>140460623051792</title>\n",
       "<polygon fill=\"lightgrey\" stroke=\"black\" points=\"183,-141 82,-141 82,-122 183,-122 183,-141\"/>\n",
       "<text text-anchor=\"middle\" x=\"132.5\" y=\"-129\" font-family=\"monospace\" font-size=\"10.00\">AccumulateGrad</text>\n",
       "</g>\n",
       "<!-- 140460623051792&#45;&gt;140460623050064 -->\n",
       "<g id=\"edge1\" class=\"edge\">\n",
       "<title>140460623051792&#45;&gt;140460623050064</title>\n",
       "<path fill=\"none\" stroke=\"black\" d=\"M151.14,-121.98C169.8,-113.46 198.75,-100.23 220.24,-90.41\"/>\n",
       "<polygon fill=\"black\" stroke=\"black\" points=\"221.88,-93.51 229.52,-86.17 218.97,-87.14 221.88,-93.51\"/>\n",
       "</g>\n",
       "<!-- 140460622999696 -->\n",
       "<g id=\"node4\" class=\"node\">\n",
       "<title>140460622999696</title>\n",
       "<polygon fill=\"lightblue\" stroke=\"black\" points=\"162,-207 103,-207 103,-177 162,-177 162,-207\"/>\n",
       "<text text-anchor=\"middle\" x=\"132.5\" y=\"-195\" font-family=\"monospace\" font-size=\"10.00\">W3.bias</text>\n",
       "<text text-anchor=\"middle\" x=\"132.5\" y=\"-184\" font-family=\"monospace\" font-size=\"10.00\"> (2)</text>\n",
       "</g>\n",
       "<!-- 140460622999696&#45;&gt;140460623051792 -->\n",
       "<g id=\"edge2\" class=\"edge\">\n",
       "<title>140460622999696&#45;&gt;140460623051792</title>\n",
       "<path fill=\"none\" stroke=\"black\" d=\"M132.5,-176.84C132.5,-169.21 132.5,-159.7 132.5,-151.45\"/>\n",
       "<polygon fill=\"black\" stroke=\"black\" points=\"136,-151.27 132.5,-141.27 129,-151.27 136,-151.27\"/>\n",
       "</g>\n",
       "<!-- 140460623049776 -->\n",
       "<g id=\"node5\" class=\"node\">\n",
       "<title>140460623049776</title>\n",
       "<polygon fill=\"lightgrey\" stroke=\"black\" points=\"296,-141 201,-141 201,-122 296,-122 296,-141\"/>\n",
       "<text text-anchor=\"middle\" x=\"248.5\" y=\"-129\" font-family=\"monospace\" font-size=\"10.00\">ReluBackward0</text>\n",
       "</g>\n",
       "<!-- 140460623049776&#45;&gt;140460623050064 -->\n",
       "<g id=\"edge3\" class=\"edge\">\n",
       "<title>140460623049776&#45;&gt;140460623050064</title>\n",
       "<path fill=\"none\" stroke=\"black\" d=\"M248.5,-121.75C248.5,-114.8 248.5,-104.85 248.5,-96.13\"/>\n",
       "<polygon fill=\"black\" stroke=\"black\" points=\"252,-96.09 248.5,-86.09 245,-96.09 252,-96.09\"/>\n",
       "</g>\n",
       "<!-- 140460623049920 -->\n",
       "<g id=\"node6\" class=\"node\">\n",
       "<title>140460623049920</title>\n",
       "<polygon fill=\"lightgrey\" stroke=\"black\" points=\"282,-201.5 181,-201.5 181,-182.5 282,-182.5 282,-201.5\"/>\n",
       "<text text-anchor=\"middle\" x=\"231.5\" y=\"-189.5\" font-family=\"monospace\" font-size=\"10.00\">AddmmBackward0</text>\n",
       "</g>\n",
       "<!-- 140460623049920&#45;&gt;140460623049776 -->\n",
       "<g id=\"edge4\" class=\"edge\">\n",
       "<title>140460623049920&#45;&gt;140460623049776</title>\n",
       "<path fill=\"none\" stroke=\"black\" d=\"M234.01,-182.37C236.39,-174.16 240.06,-161.54 243.11,-151.05\"/>\n",
       "<polygon fill=\"black\" stroke=\"black\" points=\"246.55,-151.75 245.98,-141.17 239.83,-149.79 246.55,-151.75\"/>\n",
       "</g>\n",
       "<!-- 140460623051648 -->\n",
       "<g id=\"node7\" class=\"node\">\n",
       "<title>140460623051648</title>\n",
       "<polygon fill=\"lightgrey\" stroke=\"black\" points=\"101,-267.5 0,-267.5 0,-248.5 101,-248.5 101,-267.5\"/>\n",
       "<text text-anchor=\"middle\" x=\"50.5\" y=\"-255.5\" font-family=\"monospace\" font-size=\"10.00\">AccumulateGrad</text>\n",
       "</g>\n",
       "<!-- 140460623051648&#45;&gt;140460623049920 -->\n",
       "<g id=\"edge5\" class=\"edge\">\n",
       "<title>140460623051648&#45;&gt;140460623049920</title>\n",
       "<path fill=\"none\" stroke=\"black\" d=\"M74.91,-248.37C106.58,-237.17 161.97,-217.58 197.68,-204.96\"/>\n",
       "<polygon fill=\"black\" stroke=\"black\" points=\"198.93,-208.23 207.19,-201.6 196.59,-201.63 198.93,-208.23\"/>\n",
       "</g>\n",
       "<!-- 140460623002976 -->\n",
       "<g id=\"node8\" class=\"node\">\n",
       "<title>140460623002976</title>\n",
       "<polygon fill=\"lightblue\" stroke=\"black\" points=\"59,-339 0,-339 0,-309 59,-309 59,-339\"/>\n",
       "<text text-anchor=\"middle\" x=\"29.5\" y=\"-327\" font-family=\"monospace\" font-size=\"10.00\">W2.bias</text>\n",
       "<text text-anchor=\"middle\" x=\"29.5\" y=\"-316\" font-family=\"monospace\" font-size=\"10.00\"> (3)</text>\n",
       "</g>\n",
       "<!-- 140460623002976&#45;&gt;140460623051648 -->\n",
       "<g id=\"edge6\" class=\"edge\">\n",
       "<title>140460623002976&#45;&gt;140460623051648</title>\n",
       "<path fill=\"none\" stroke=\"black\" d=\"M34.16,-308.8C37.18,-299.6 41.14,-287.53 44.4,-277.58\"/>\n",
       "<polygon fill=\"black\" stroke=\"black\" points=\"47.81,-278.44 47.6,-267.84 41.15,-276.25 47.81,-278.44\"/>\n",
       "</g>\n",
       "<!-- 140460623052272 -->\n",
       "<g id=\"node9\" class=\"node\">\n",
       "<title>140460623052272</title>\n",
       "<polygon fill=\"lightgrey\" stroke=\"black\" points=\"263,-267.5 162,-267.5 162,-248.5 263,-248.5 263,-267.5\"/>\n",
       "<text text-anchor=\"middle\" x=\"212.5\" y=\"-255.5\" font-family=\"monospace\" font-size=\"10.00\">AddmmBackward0</text>\n",
       "</g>\n",
       "<!-- 140460623052272&#45;&gt;140460623049920 -->\n",
       "<g id=\"edge7\" class=\"edge\">\n",
       "<title>140460623052272&#45;&gt;140460623049920</title>\n",
       "<path fill=\"none\" stroke=\"black\" d=\"M215.06,-248.37C217.85,-238.97 222.39,-223.67 226,-211.53\"/>\n",
       "<polygon fill=\"black\" stroke=\"black\" points=\"229.37,-212.49 228.86,-201.91 222.65,-210.5 229.37,-212.49\"/>\n",
       "</g>\n",
       "<!-- 140460623049536 -->\n",
       "<g id=\"node10\" class=\"node\">\n",
       "<title>140460623049536</title>\n",
       "<polygon fill=\"lightgrey\" stroke=\"black\" points=\"178,-333.5 77,-333.5 77,-314.5 178,-314.5 178,-333.5\"/>\n",
       "<text text-anchor=\"middle\" x=\"127.5\" y=\"-321.5\" font-family=\"monospace\" font-size=\"10.00\">AccumulateGrad</text>\n",
       "</g>\n",
       "<!-- 140460623049536&#45;&gt;140460623052272 -->\n",
       "<g id=\"edge8\" class=\"edge\">\n",
       "<title>140460623049536&#45;&gt;140460623052272</title>\n",
       "<path fill=\"none\" stroke=\"black\" d=\"M138.96,-314.37C152.78,-303.97 176.21,-286.32 192.91,-273.75\"/>\n",
       "<polygon fill=\"black\" stroke=\"black\" points=\"195.06,-276.51 200.95,-267.7 190.85,-270.92 195.06,-276.51\"/>\n",
       "</g>\n",
       "<!-- 140460065957104 -->\n",
       "<g id=\"node11\" class=\"node\">\n",
       "<title>140460065957104</title>\n",
       "<polygon fill=\"lightblue\" stroke=\"black\" points=\"157,-405 98,-405 98,-375 157,-375 157,-405\"/>\n",
       "<text text-anchor=\"middle\" x=\"127.5\" y=\"-393\" font-family=\"monospace\" font-size=\"10.00\">W1.bias</text>\n",
       "<text text-anchor=\"middle\" x=\"127.5\" y=\"-382\" font-family=\"monospace\" font-size=\"10.00\"> (2)</text>\n",
       "</g>\n",
       "<!-- 140460065957104&#45;&gt;140460623049536 -->\n",
       "<g id=\"edge9\" class=\"edge\">\n",
       "<title>140460065957104&#45;&gt;140460623049536</title>\n",
       "<path fill=\"none\" stroke=\"black\" d=\"M127.5,-374.8C127.5,-365.7 127.5,-353.79 127.5,-343.9\"/>\n",
       "<polygon fill=\"black\" stroke=\"black\" points=\"131,-343.84 127.5,-333.84 124,-343.84 131,-343.84\"/>\n",
       "</g>\n",
       "<!-- 140460623049872 -->\n",
       "<g id=\"node12\" class=\"node\">\n",
       "<title>140460623049872</title>\n",
       "<polygon fill=\"lightgrey\" stroke=\"black\" points=\"273,-333.5 196,-333.5 196,-314.5 273,-314.5 273,-333.5\"/>\n",
       "<text text-anchor=\"middle\" x=\"234.5\" y=\"-321.5\" font-family=\"monospace\" font-size=\"10.00\">TBackward0</text>\n",
       "</g>\n",
       "<!-- 140460623049872&#45;&gt;140460623052272 -->\n",
       "<g id=\"edge10\" class=\"edge\">\n",
       "<title>140460623049872&#45;&gt;140460623052272</title>\n",
       "<path fill=\"none\" stroke=\"black\" d=\"M231.53,-314.37C228.3,-304.97 223.04,-289.67 218.87,-277.53\"/>\n",
       "<polygon fill=\"black\" stroke=\"black\" points=\"222.12,-276.22 215.56,-267.91 215.5,-278.5 222.12,-276.22\"/>\n",
       "</g>\n",
       "<!-- 140460623048912 -->\n",
       "<g id=\"node13\" class=\"node\">\n",
       "<title>140460623048912</title>\n",
       "<polygon fill=\"lightgrey\" stroke=\"black\" points=\"285,-399.5 184,-399.5 184,-380.5 285,-380.5 285,-399.5\"/>\n",
       "<text text-anchor=\"middle\" x=\"234.5\" y=\"-387.5\" font-family=\"monospace\" font-size=\"10.00\">AccumulateGrad</text>\n",
       "</g>\n",
       "<!-- 140460623048912&#45;&gt;140460623049872 -->\n",
       "<g id=\"edge11\" class=\"edge\">\n",
       "<title>140460623048912&#45;&gt;140460623049872</title>\n",
       "<path fill=\"none\" stroke=\"black\" d=\"M234.5,-380.37C234.5,-371.16 234.5,-356.29 234.5,-344.27\"/>\n",
       "<polygon fill=\"black\" stroke=\"black\" points=\"238,-343.91 234.5,-333.91 231,-343.91 238,-343.91\"/>\n",
       "</g>\n",
       "<!-- 140460476975840 -->\n",
       "<g id=\"node14\" class=\"node\">\n",
       "<title>140460476975840</title>\n",
       "<polygon fill=\"lightblue\" stroke=\"black\" points=\"270,-471 199,-471 199,-441 270,-441 270,-471\"/>\n",
       "<text text-anchor=\"middle\" x=\"234.5\" y=\"-459\" font-family=\"monospace\" font-size=\"10.00\">W1.weight</text>\n",
       "<text text-anchor=\"middle\" x=\"234.5\" y=\"-448\" font-family=\"monospace\" font-size=\"10.00\"> (2, 2)</text>\n",
       "</g>\n",
       "<!-- 140460476975840&#45;&gt;140460623048912 -->\n",
       "<g id=\"edge12\" class=\"edge\">\n",
       "<title>140460476975840&#45;&gt;140460623048912</title>\n",
       "<path fill=\"none\" stroke=\"black\" d=\"M234.5,-440.8C234.5,-431.7 234.5,-419.79 234.5,-409.9\"/>\n",
       "<polygon fill=\"black\" stroke=\"black\" points=\"238,-409.84 234.5,-399.84 231,-409.84 238,-409.84\"/>\n",
       "</g>\n",
       "<!-- 140460623052320 -->\n",
       "<g id=\"node15\" class=\"node\">\n",
       "<title>140460623052320</title>\n",
       "<polygon fill=\"lightgrey\" stroke=\"black\" points=\"358,-267.5 281,-267.5 281,-248.5 358,-248.5 358,-267.5\"/>\n",
       "<text text-anchor=\"middle\" x=\"319.5\" y=\"-255.5\" font-family=\"monospace\" font-size=\"10.00\">TBackward0</text>\n",
       "</g>\n",
       "<!-- 140460623052320&#45;&gt;140460623049920 -->\n",
       "<g id=\"edge13\" class=\"edge\">\n",
       "<title>140460623052320&#45;&gt;140460623049920</title>\n",
       "<path fill=\"none\" stroke=\"black\" d=\"M307.63,-248.37C293.33,-237.97 269.07,-220.32 251.78,-207.75\"/>\n",
       "<polygon fill=\"black\" stroke=\"black\" points=\"253.61,-204.75 243.46,-201.7 249.49,-210.41 253.61,-204.75\"/>\n",
       "</g>\n",
       "<!-- 140460623049248 -->\n",
       "<g id=\"node16\" class=\"node\">\n",
       "<title>140460623049248</title>\n",
       "<polygon fill=\"lightgrey\" stroke=\"black\" points=\"392,-333.5 291,-333.5 291,-314.5 392,-314.5 392,-333.5\"/>\n",
       "<text text-anchor=\"middle\" x=\"341.5\" y=\"-321.5\" font-family=\"monospace\" font-size=\"10.00\">AccumulateGrad</text>\n",
       "</g>\n",
       "<!-- 140460623049248&#45;&gt;140460623052320 -->\n",
       "<g id=\"edge14\" class=\"edge\">\n",
       "<title>140460623049248&#45;&gt;140460623052320</title>\n",
       "<path fill=\"none\" stroke=\"black\" d=\"M338.53,-314.37C335.3,-304.97 330.04,-289.67 325.87,-277.53\"/>\n",
       "<polygon fill=\"black\" stroke=\"black\" points=\"329.12,-276.22 322.56,-267.91 322.5,-278.5 329.12,-276.22\"/>\n",
       "</g>\n",
       "<!-- 140460623002576 -->\n",
       "<g id=\"node17\" class=\"node\">\n",
       "<title>140460623002576</title>\n",
       "<polygon fill=\"lightblue\" stroke=\"black\" points=\"377,-405 306,-405 306,-375 377,-375 377,-405\"/>\n",
       "<text text-anchor=\"middle\" x=\"341.5\" y=\"-393\" font-family=\"monospace\" font-size=\"10.00\">W2.weight</text>\n",
       "<text text-anchor=\"middle\" x=\"341.5\" y=\"-382\" font-family=\"monospace\" font-size=\"10.00\"> (3, 2)</text>\n",
       "</g>\n",
       "<!-- 140460623002576&#45;&gt;140460623049248 -->\n",
       "<g id=\"edge15\" class=\"edge\">\n",
       "<title>140460623002576&#45;&gt;140460623049248</title>\n",
       "<path fill=\"none\" stroke=\"black\" d=\"M341.5,-374.8C341.5,-365.7 341.5,-353.79 341.5,-343.9\"/>\n",
       "<polygon fill=\"black\" stroke=\"black\" points=\"345,-343.84 341.5,-333.84 338,-343.84 345,-343.84\"/>\n",
       "</g>\n",
       "<!-- 140460623051552 -->\n",
       "<g id=\"node18\" class=\"node\">\n",
       "<title>140460623051552</title>\n",
       "<polygon fill=\"lightgrey\" stroke=\"black\" points=\"430,-141 353,-141 353,-122 430,-122 430,-141\"/>\n",
       "<text text-anchor=\"middle\" x=\"391.5\" y=\"-129\" font-family=\"monospace\" font-size=\"10.00\">TBackward0</text>\n",
       "</g>\n",
       "<!-- 140460623051552&#45;&gt;140460623050064 -->\n",
       "<g id=\"edge16\" class=\"edge\">\n",
       "<title>140460623051552&#45;&gt;140460623050064</title>\n",
       "<path fill=\"none\" stroke=\"black\" d=\"M368.52,-121.98C345,-113.27 308.21,-99.63 281.56,-89.75\"/>\n",
       "<polygon fill=\"black\" stroke=\"black\" points=\"282.49,-86.36 271.89,-86.17 280.05,-92.93 282.49,-86.36\"/>\n",
       "</g>\n",
       "<!-- 140460623052560 -->\n",
       "<g id=\"node19\" class=\"node\">\n",
       "<title>140460623052560</title>\n",
       "<polygon fill=\"lightgrey\" stroke=\"black\" points=\"452,-201.5 351,-201.5 351,-182.5 452,-182.5 452,-201.5\"/>\n",
       "<text text-anchor=\"middle\" x=\"401.5\" y=\"-189.5\" font-family=\"monospace\" font-size=\"10.00\">AccumulateGrad</text>\n",
       "</g>\n",
       "<!-- 140460623052560&#45;&gt;140460623051552 -->\n",
       "<g id=\"edge17\" class=\"edge\">\n",
       "<title>140460623052560&#45;&gt;140460623051552</title>\n",
       "<path fill=\"none\" stroke=\"black\" d=\"M400.02,-182.37C398.62,-174.16 396.46,-161.54 394.67,-151.05\"/>\n",
       "<polygon fill=\"black\" stroke=\"black\" points=\"398.12,-150.43 392.98,-141.17 391.22,-151.61 398.12,-150.43\"/>\n",
       "</g>\n",
       "<!-- 140460066425648 -->\n",
       "<g id=\"node20\" class=\"node\">\n",
       "<title>140460066425648</title>\n",
       "<polygon fill=\"lightblue\" stroke=\"black\" points=\"447,-273 376,-273 376,-243 447,-243 447,-273\"/>\n",
       "<text text-anchor=\"middle\" x=\"411.5\" y=\"-261\" font-family=\"monospace\" font-size=\"10.00\">W3.weight</text>\n",
       "<text text-anchor=\"middle\" x=\"411.5\" y=\"-250\" font-family=\"monospace\" font-size=\"10.00\"> (2, 3)</text>\n",
       "</g>\n",
       "<!-- 140460066425648&#45;&gt;140460623052560 -->\n",
       "<g id=\"edge18\" class=\"edge\">\n",
       "<title>140460066425648&#45;&gt;140460623052560</title>\n",
       "<path fill=\"none\" stroke=\"black\" d=\"M409.28,-242.8C407.86,-233.7 406,-221.79 404.45,-211.9\"/>\n",
       "<polygon fill=\"black\" stroke=\"black\" points=\"407.88,-211.18 402.88,-201.84 400.97,-212.26 407.88,-211.18\"/>\n",
       "</g>\n",
       "</g>\n",
       "</svg>\n"
      ],
      "text/plain": [
       "<graphviz.dot.Digraph at 0x7fbf898abdc0>"
      ]
     },
     "execution_count": 17,
     "metadata": {},
     "output_type": "execute_result"
    }
   ],
   "source": [
    "# here's another way of constructing your computational graph by using the library torchviz\n",
    "# we will discuss computational models again later in this module\n",
    "from torch.autograd import Variable\n",
    "from torchviz import make_dot \n",
    "model = nn.Sequential()\n",
    "model.add_module('W1', nn.Linear(2,2)) #add a layer with linear transformation as before\n",
    "model.add_module('W2', nn.Linear(2,3)) #add another layer similarly\n",
    "model.add_module('relu', nn.ReLU()) #add a ReLU activation\n",
    "model.add_module('W3', nn.Linear(3, 2)) #add a final linear layer\n",
    "x = Variable(torch.randn(1, 2)) #input variable\n",
    "y = model(x)\n",
    "make_dot(y, params=dict(model.named_parameters()))"
   ]
  },
  {
   "cell_type": "markdown",
   "id": "bede946b",
   "metadata": {},
   "source": [
    "We can change the activation functions and number of layers for different purposes. For example, we can represent logistic regression with the architecture shown in the beginning of this notebook. We can visualise the architecture by using `torchviz`."
   ]
  },
  {
   "cell_type": "code",
   "execution_count": 18,
   "id": "cf94afff",
   "metadata": {},
   "outputs": [
    {
     "data": {
      "image/svg+xml": [
       "<?xml version=\"1.0\" encoding=\"UTF-8\" standalone=\"no\"?>\n",
       "<!DOCTYPE svg PUBLIC \"-//W3C//DTD SVG 1.1//EN\"\n",
       " \"http://www.w3.org/Graphics/SVG/1.1/DTD/svg11.dtd\">\n",
       "<!-- Generated by graphviz version 2.47.3 (20210619.1520)\n",
       " -->\n",
       "<!-- Pages: 1 -->\n",
       "<svg width=\"216pt\" height=\"391pt\"\n",
       " viewBox=\"0.00 0.00 216.00 391.00\" xmlns=\"http://www.w3.org/2000/svg\" xmlns:xlink=\"http://www.w3.org/1999/xlink\">\n",
       "<g id=\"graph0\" class=\"graph\" transform=\"scale(1 1) rotate(0) translate(4 387)\">\n",
       "<polygon fill=\"white\" stroke=\"transparent\" points=\"-4,4 -4,-387 212,-387 212,4 -4,4\"/>\n",
       "<!-- 140460065957664 -->\n",
       "<g id=\"node1\" class=\"node\">\n",
       "<title>140460065957664</title>\n",
       "<polygon fill=\"#caff70\" stroke=\"black\" points=\"130.5,-31 76.5,-31 76.5,0 130.5,0 130.5,-31\"/>\n",
       "<text text-anchor=\"middle\" x=\"103.5\" y=\"-7\" font-family=\"monospace\" font-size=\"10.00\"> ()</text>\n",
       "</g>\n",
       "<!-- 140459796560432 -->\n",
       "<g id=\"node2\" class=\"node\">\n",
       "<title>140459796560432</title>\n",
       "<polygon fill=\"lightgrey\" stroke=\"black\" points=\"148,-86 59,-86 59,-67 148,-67 148,-86\"/>\n",
       "<text text-anchor=\"middle\" x=\"103.5\" y=\"-74\" font-family=\"monospace\" font-size=\"10.00\">MaxBackward1</text>\n",
       "</g>\n",
       "<!-- 140459796560432&#45;&gt;140460065957664 -->\n",
       "<g id=\"edge8\" class=\"edge\">\n",
       "<title>140459796560432&#45;&gt;140460065957664</title>\n",
       "<path fill=\"none\" stroke=\"black\" d=\"M103.5,-66.79C103.5,-60.07 103.5,-50.4 103.5,-41.34\"/>\n",
       "<polygon fill=\"black\" stroke=\"black\" points=\"107,-41.19 103.5,-31.19 100,-41.19 107,-41.19\"/>\n",
       "</g>\n",
       "<!-- 140459796558560 -->\n",
       "<g id=\"node3\" class=\"node\">\n",
       "<title>140459796558560</title>\n",
       "<polygon fill=\"lightgrey\" stroke=\"black\" points=\"160,-141 47,-141 47,-122 160,-122 160,-141\"/>\n",
       "<text text-anchor=\"middle\" x=\"103.5\" y=\"-129\" font-family=\"monospace\" font-size=\"10.00\">SigmoidBackward0</text>\n",
       "</g>\n",
       "<!-- 140459796558560&#45;&gt;140459796560432 -->\n",
       "<g id=\"edge1\" class=\"edge\">\n",
       "<title>140459796558560&#45;&gt;140459796560432</title>\n",
       "<path fill=\"none\" stroke=\"black\" d=\"M103.5,-121.75C103.5,-114.8 103.5,-104.85 103.5,-96.13\"/>\n",
       "<polygon fill=\"black\" stroke=\"black\" points=\"107,-96.09 103.5,-86.09 100,-96.09 107,-96.09\"/>\n",
       "</g>\n",
       "<!-- 140459796561872 -->\n",
       "<g id=\"node4\" class=\"node\">\n",
       "<title>140459796561872</title>\n",
       "<polygon fill=\"lightgrey\" stroke=\"black\" points=\"154,-196 53,-196 53,-177 154,-177 154,-196\"/>\n",
       "<text text-anchor=\"middle\" x=\"103.5\" y=\"-184\" font-family=\"monospace\" font-size=\"10.00\">AddmmBackward0</text>\n",
       "</g>\n",
       "<!-- 140459796561872&#45;&gt;140459796558560 -->\n",
       "<g id=\"edge2\" class=\"edge\">\n",
       "<title>140459796561872&#45;&gt;140459796558560</title>\n",
       "<path fill=\"none\" stroke=\"black\" d=\"M103.5,-176.75C103.5,-169.8 103.5,-159.85 103.5,-151.13\"/>\n",
       "<polygon fill=\"black\" stroke=\"black\" points=\"107,-151.09 103.5,-141.09 100,-151.09 107,-151.09\"/>\n",
       "</g>\n",
       "<!-- 140459796558080 -->\n",
       "<g id=\"node5\" class=\"node\">\n",
       "<title>140459796558080</title>\n",
       "<polygon fill=\"lightgrey\" stroke=\"black\" points=\"101,-251 0,-251 0,-232 101,-232 101,-251\"/>\n",
       "<text text-anchor=\"middle\" x=\"50.5\" y=\"-239\" font-family=\"monospace\" font-size=\"10.00\">AccumulateGrad</text>\n",
       "</g>\n",
       "<!-- 140459796558080&#45;&gt;140459796561872 -->\n",
       "<g id=\"edge3\" class=\"edge\">\n",
       "<title>140459796558080&#45;&gt;140459796561872</title>\n",
       "<path fill=\"none\" stroke=\"black\" d=\"M59.25,-231.75C66.97,-224.03 78.4,-212.6 87.72,-203.28\"/>\n",
       "<polygon fill=\"black\" stroke=\"black\" points=\"90.31,-205.64 94.91,-196.09 85.36,-200.69 90.31,-205.64\"/>\n",
       "</g>\n",
       "<!-- 140460066425968 -->\n",
       "<g id=\"node6\" class=\"node\">\n",
       "<title>140460066425968</title>\n",
       "<polygon fill=\"lightblue\" stroke=\"black\" points=\"80,-317 21,-317 21,-287 80,-287 80,-317\"/>\n",
       "<text text-anchor=\"middle\" x=\"50.5\" y=\"-305\" font-family=\"monospace\" font-size=\"10.00\">W0.bias</text>\n",
       "<text text-anchor=\"middle\" x=\"50.5\" y=\"-294\" font-family=\"monospace\" font-size=\"10.00\"> (2)</text>\n",
       "</g>\n",
       "<!-- 140460066425968&#45;&gt;140459796558080 -->\n",
       "<g id=\"edge4\" class=\"edge\">\n",
       "<title>140460066425968&#45;&gt;140459796558080</title>\n",
       "<path fill=\"none\" stroke=\"black\" d=\"M50.5,-286.84C50.5,-279.21 50.5,-269.7 50.5,-261.45\"/>\n",
       "<polygon fill=\"black\" stroke=\"black\" points=\"54,-261.27 50.5,-251.27 47,-261.27 54,-261.27\"/>\n",
       "</g>\n",
       "<!-- 140459796558608 -->\n",
       "<g id=\"node7\" class=\"node\">\n",
       "<title>140459796558608</title>\n",
       "<polygon fill=\"lightgrey\" stroke=\"black\" points=\"196,-251 119,-251 119,-232 196,-232 196,-251\"/>\n",
       "<text text-anchor=\"middle\" x=\"157.5\" y=\"-239\" font-family=\"monospace\" font-size=\"10.00\">TBackward0</text>\n",
       "</g>\n",
       "<!-- 140459796558608&#45;&gt;140459796561872 -->\n",
       "<g id=\"edge5\" class=\"edge\">\n",
       "<title>140459796558608&#45;&gt;140459796561872</title>\n",
       "<path fill=\"none\" stroke=\"black\" d=\"M148.58,-231.75C140.72,-224.03 129.07,-212.6 119.58,-203.28\"/>\n",
       "<polygon fill=\"black\" stroke=\"black\" points=\"121.84,-200.6 112.25,-196.09 116.94,-205.59 121.84,-200.6\"/>\n",
       "</g>\n",
       "<!-- 140459796559040 -->\n",
       "<g id=\"node8\" class=\"node\">\n",
       "<title>140459796559040</title>\n",
       "<polygon fill=\"lightgrey\" stroke=\"black\" points=\"208,-311.5 107,-311.5 107,-292.5 208,-292.5 208,-311.5\"/>\n",
       "<text text-anchor=\"middle\" x=\"157.5\" y=\"-299.5\" font-family=\"monospace\" font-size=\"10.00\">AccumulateGrad</text>\n",
       "</g>\n",
       "<!-- 140459796559040&#45;&gt;140459796558608 -->\n",
       "<g id=\"edge6\" class=\"edge\">\n",
       "<title>140459796559040&#45;&gt;140459796558608</title>\n",
       "<path fill=\"none\" stroke=\"black\" d=\"M157.5,-292.37C157.5,-284.25 157.5,-271.81 157.5,-261.39\"/>\n",
       "<polygon fill=\"black\" stroke=\"black\" points=\"161,-261.17 157.5,-251.17 154,-261.17 161,-261.17\"/>\n",
       "</g>\n",
       "<!-- 140460604904928 -->\n",
       "<g id=\"node9\" class=\"node\">\n",
       "<title>140460604904928</title>\n",
       "<polygon fill=\"lightblue\" stroke=\"black\" points=\"193,-383 122,-383 122,-353 193,-353 193,-383\"/>\n",
       "<text text-anchor=\"middle\" x=\"157.5\" y=\"-371\" font-family=\"monospace\" font-size=\"10.00\">W0.weight</text>\n",
       "<text text-anchor=\"middle\" x=\"157.5\" y=\"-360\" font-family=\"monospace\" font-size=\"10.00\"> (2, 2)</text>\n",
       "</g>\n",
       "<!-- 140460604904928&#45;&gt;140459796559040 -->\n",
       "<g id=\"edge7\" class=\"edge\">\n",
       "<title>140460604904928&#45;&gt;140459796559040</title>\n",
       "<path fill=\"none\" stroke=\"black\" d=\"M157.5,-352.8C157.5,-343.7 157.5,-331.79 157.5,-321.9\"/>\n",
       "<polygon fill=\"black\" stroke=\"black\" points=\"161,-321.84 157.5,-311.84 154,-321.84 161,-321.84\"/>\n",
       "</g>\n",
       "</g>\n",
       "</svg>\n"
      ],
      "text/plain": [
       "<graphviz.dot.Digraph at 0x7fbf58477880>"
      ]
     },
     "execution_count": 18,
     "metadata": {},
     "output_type": "execute_result"
    }
   ],
   "source": [
    "# this is how a simple logistic regression would look like\n",
    "model = nn.Sequential()\n",
    "model.add_module('W0', nn.Linear(2, 2))\n",
    "model.add_module('logit', nn.Sigmoid()) #sigmoid activation\n",
    "x = Variable(torch.randn(1, 2))\n",
    "y = model(x)\n",
    "make_dot(y.max(), params=dict(model.named_parameters()))"
   ]
  },
  {
   "cell_type": "markdown",
   "id": "43002fd8",
   "metadata": {},
   "source": [
    "The strange name of the operations and variables in the PyTorch computational graph may not make much sense right now, but as we progress in this class we'll be piecing the different parts of the puzzle together. "
   ]
  },
  {
   "cell_type": "markdown",
   "id": "71c786ac",
   "metadata": {},
   "source": [
    "#### 5. Demonstration of the Logistic Regression via a Neural Network"
   ]
  },
  {
   "cell_type": "markdown",
   "id": "e3353c66",
   "metadata": {},
   "source": [
    "In the beginning of this notebook, we discussed that in the two-dimensional feature setting, the probability of an instance to belong the target +1 (assuming there are two targets) is\n",
    "$$ \\mathbb{P}[y = 1 | x_1, x_2] = \\dfrac{1}{ 1 + \\exp( - w_0 - w_1 x_1 -  w_2 x_2)} = s(w_0 + w_1x_2 + w_2x_2).$$"
   ]
  },
  {
   "cell_type": "markdown",
   "id": "cf215b84",
   "metadata": {},
   "source": [
    "**Exercise:** \n",
    "Find the probability $\\mathbb{P}[y = 1 | x_1, x_2]$ where $w_0 = 1, w_1 = 0.3, w_2 = -0.1$ for the input $x = (x_1 = 1, x_2 = -2)$."
   ]
  },
  {
   "cell_type": "markdown",
   "id": "e8b97881",
   "metadata": {},
   "source": [
    "**Exercise:**\n",
    "Model the same with a simple neural network. Report the probability of the same input belonging class +1 when the weights are fixed accordingly.\n",
    "*(Hint: the weights within two layers are automatically being initialized via `torch`, however, you may change it by ```L_1.weight.data = ...``` and ```L_1.bias.data = ...```)*"
   ]
  }
 ],
 "metadata": {
  "kernelspec": {
   "display_name": "Python 3",
   "language": "python",
   "name": "python3"
  },
  "language_info": {
   "codemirror_mode": {
    "name": "ipython",
    "version": 3
   },
   "file_extension": ".py",
   "mimetype": "text/x-python",
   "name": "python",
   "nbconvert_exporter": "python",
   "pygments_lexer": "ipython3",
   "version": "3.8.8"
  }
 },
 "nbformat": 4,
 "nbformat_minor": 5
}
